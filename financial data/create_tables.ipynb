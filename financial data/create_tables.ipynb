{
 "cells": [
  {
   "cell_type": "code",
   "execution_count": 1,
   "metadata": {},
   "outputs": [],
   "source": [
    "import sqlite3 as sql\n",
    "file = \"financial_data.db\"\n",
    "\n",
    "connection = sql.connect(file)"
   ]
  },
  {
   "cell_type": "markdown",
   "metadata": {},
   "source": [
    "### Creat the first table"
   ]
  },
  {
   "cell_type": "code",
   "execution_count": 2,
   "metadata": {},
   "outputs": [],
   "source": [
    "script =\"\"\"\n",
    "create table if not exists balanceSheetHistory_annually (\n",
    "    stock TEXT,\n",
    "    endDate TEXT,\n",
    "    accountsPayable\tREAL,\n",
    "    inventory REAL,\n",
    "    longTermDebt REAL,\n",
    "    netReceivables REAL,\n",
    "    netTangibleAssets REAL,\n",
    "    longTermInvestments REAL,\n",
    "    totalCurrentAssets REAL,\n",
    "    propertyPlantEquipment REAL,\n",
    "    otherStockholderEquity REAL,\n",
    "    deferredLongTermAssetCharges REAL,\n",
    "    totalCurrentLiabilities REAL,\n",
    "    cash REAL,\n",
    "    otherAssets REAL,\n",
    "    treasuryStock REAL,\n",
    "    goodWill REAL,\n",
    "    otherLiab REAL,\n",
    "    retainedEarnings REAL,\n",
    "    otherCurrentAssets REAL,\n",
    "    commonStock REAL,\n",
    "    totalAssets REAL,\n",
    "    otherCurrentLiab REAL,\n",
    "    deferredLongTermLiab REAL,\n",
    "    totalStockholderEquity REAL,\n",
    "    totalLiab REAL,\n",
    "    capitalSurplus REAL,\n",
    "    intangibleAssets REAL,\n",
    "    shortTermInvestments REAL,\n",
    "    shortLongTermDebt REAL,\n",
    "    minorityInterest REAL,\n",
    "    primary key (stock, endDate)\n",
    ")\n",
    "\"\"\""
   ]
  },
  {
   "cell_type": "code",
   "execution_count": 3,
   "metadata": {},
   "outputs": [
    {
     "data": {
      "text/plain": [
       "<sqlite3.Cursor at 0x2247d9ac7c0>"
      ]
     },
     "execution_count": 3,
     "metadata": {},
     "output_type": "execute_result"
    }
   ],
   "source": [
    "cursor = connection.cursor()\n",
    "\n",
    "cursor.execute(\"drop table if exists balanceSheetHistory_annually\")\n",
    "\n",
    "cursor.execute(script)"
   ]
  },
  {
   "cell_type": "markdown",
   "metadata": {},
   "source": [
    "### Read csv for the first file"
   ]
  },
  {
   "cell_type": "code",
   "execution_count": 4,
   "metadata": {},
   "outputs": [
    {
     "name": "stdout",
     "output_type": "stream",
     "text": [
      "(17511, 31)\n"
     ]
    }
   ],
   "source": [
    "import pandas as pd\n",
    "\n",
    "data_balanceSheetHistory_annually = pd.read_csv(\"archive\\\\balanceSheetHistory_annually.csv\")\n",
    "print(data_balanceSheetHistory_annually.shape)\n"
   ]
  },
  {
   "cell_type": "markdown",
   "metadata": {},
   "source": [
    "### Insert values into the first table "
   ]
  },
  {
   "cell_type": "code",
   "execution_count": 5,
   "metadata": {},
   "outputs": [],
   "source": [
    "insert = '''replace into balanceSheetHistory_annually\n",
    "                values ('''+\"?,\"*30+\"?\"+''')'''\n",
    "\n",
    "for row in data_balanceSheetHistory_annually.itertuples(index=False):\n",
    "    cursor.execute(insert, row)"
   ]
  },
  {
   "cell_type": "markdown",
   "metadata": {},
   "source": [
    "## From here on, we try to automate the process"
   ]
  },
  {
   "cell_type": "markdown",
   "metadata": {},
   "source": [
    "### Automate read csv"
   ]
  },
  {
   "cell_type": "code",
   "execution_count": 6,
   "metadata": {},
   "outputs": [],
   "source": [
    "file = [\"balanceSheetHistory_quarterly\", \"cashflowStatement_annually\", \"cashflowStatement_quarterly\", \"incomeStatementHistory_annually\", \"incomeStatementHistory_quarterly\"]\n",
    "files={}\n",
    "for i in file:\n",
    "     files[i] = pd.read_csv(\"archive\\\\\" + i +\".csv\")"
   ]
  },
  {
   "cell_type": "markdown",
   "metadata": {},
   "source": [
    "### Create tables"
   ]
  },
  {
   "cell_type": "code",
   "execution_count": 7,
   "metadata": {},
   "outputs": [
    {
     "data": {
      "text/plain": [
       "<sqlite3.Cursor at 0x2247d9ac7c0>"
      ]
     },
     "execution_count": 7,
     "metadata": {},
     "output_type": "execute_result"
    }
   ],
   "source": [
    "script = \"\"\"\n",
    "create table if not exists balanceSheetHistory_quarterly (\n",
    "    stock TEXT,\n",
    "    endDate TEXT,\n",
    "    accountsPayable\tREAL,\n",
    "    inventory REAL,\n",
    "    longTermDebt REAL,\n",
    "    netReceivables REAL,\n",
    "    netTangibleAssets REAL,\n",
    "    longTermInvestments REAL,\n",
    "    totalCurrentAssets REAL,\n",
    "    propertyPlantEquipment REAL,\n",
    "    otherStockholderEquity REAL,\n",
    "    deferredLongTermAssetCharges REAL,\n",
    "    totalCurrentLiabilities REAL,\n",
    "    cash REAL,\n",
    "    otherAssets REAL,\n",
    "    treasuryStock REAL,\n",
    "    goodWill REAL,\n",
    "    otherLiab REAL,\n",
    "    retainedEarnings REAL,\n",
    "    otherCurrentAssets REAL,\n",
    "    commonStock REAL,\n",
    "    totalAssets REAL,\n",
    "    otherCurrentLiab REAL,\n",
    "    deferredLongTermLiab REAL,\n",
    "    totalStockholderEquity REAL,\n",
    "    totalLiab REAL,\n",
    "    capitalSurplus REAL,\n",
    "    intangibleAssets REAL,\n",
    "    shortTermInvestments REAL,\n",
    "    shortLongTermDebt REAL,\n",
    "    minorityInterest REAL,\n",
    "    primary key (stock, endDate)\n",
    ")\n",
    "\"\"\"\n",
    "cursor.execute(\"drop table if exists balanceSheetHistory_quarterly\")\n",
    "\n",
    "cursor.execute(script)"
   ]
  },
  {
   "cell_type": "code",
   "execution_count": 8,
   "metadata": {},
   "outputs": [
    {
     "data": {
      "text/plain": [
       "<sqlite3.Cursor at 0x2247d9ac7c0>"
      ]
     },
     "execution_count": 8,
     "metadata": {},
     "output_type": "execute_result"
    }
   ],
   "source": [
    "script = '''\n",
    "create table if not exists cashflowStatement_annually (\n",
    "    stock TEXT,\n",
    "    endDate TEXT,\n",
    "    capitalExpenditures REAL,\n",
    "    changeToNetincome REAL,\n",
    "    otherCashflowsFromFinancingActivities REAL,\n",
    "    changeToAccountReceivables REAL,\n",
    "    changeToInventory REAL,\n",
    "    dividendsPaid REAL,\n",
    "    otherCashflowsFromInvestingActivities REAL,\n",
    "    depreciation REAL,\n",
    "    totalCashFromOperatingActivities REAL,\n",
    "    effectOfExchangeRate REAL,\n",
    "    repurchaseOfStock REAL,\n",
    "    changeInCash REAL,\n",
    "    netIncome REAL,\n",
    "    changeToOperatingActivities REAL,\n",
    "    totalCashFromFinancingActivities REAL,\n",
    "    netBorrowings REAL,\n",
    "    totalCashflowsFromInvestingActivities REAL,\n",
    "    changeToLiabilities REAL,\n",
    "    issuanceOfStock REAL,\n",
    "    investments REAL,\n",
    "    primary key (stock, endDate)\n",
    ")\n",
    "'''\n",
    "cursor.execute(\"drop table if exists cashflowStatement_annually\")\n",
    "cursor.execute(script)"
   ]
  },
  {
   "cell_type": "code",
   "execution_count": 9,
   "metadata": {},
   "outputs": [
    {
     "data": {
      "text/plain": [
       "<sqlite3.Cursor at 0x2247d9ac7c0>"
      ]
     },
     "execution_count": 9,
     "metadata": {},
     "output_type": "execute_result"
    }
   ],
   "source": [
    "script = '''\n",
    "create table if not exists cashflowStatement_quarterly (\n",
    "    stock TEXT,\n",
    "    endDate TEXT,\n",
    "    capitalExpenditures REAL,\n",
    "    changeToNetincome REAL,\n",
    "    otherCashflowsFromFinancingActivities REAL,\n",
    "    changeToAccountReceivables REAL,\n",
    "    changeToInventory REAL,\n",
    "    dividendsPaid REAL,\n",
    "    otherCashflowsFromInvestingActivities REAL,\n",
    "    depreciation REAL,\n",
    "    totalCashFromOperatingActivities REAL,\n",
    "    effectOfExchangeRate REAL,\n",
    "    repurchaseOfStock REAL,\n",
    "    changeInCash REAL,\n",
    "    netIncome REAL,\n",
    "    changeToOperatingActivities REAL,\n",
    "    totalCashFromFinancingActivities REAL,\n",
    "    netBorrowings REAL,\n",
    "    totalCashflowsFromInvestingActivities REAL,\n",
    "    changeToLiabilities REAL,\n",
    "    issuanceOfStock REAL,\n",
    "    investments REAL,\n",
    "    primary key (stock, endDate)\n",
    ")\n",
    "'''\n",
    "cursor.execute(\"drop table if exists cashflowStatement_quarterly\")\n",
    "cursor.execute(script)"
   ]
  },
  {
   "cell_type": "code",
   "execution_count": 10,
   "metadata": {},
   "outputs": [
    {
     "data": {
      "text/plain": [
       "<sqlite3.Cursor at 0x2247d9ac7c0>"
      ]
     },
     "execution_count": 10,
     "metadata": {},
     "output_type": "execute_result"
    }
   ],
   "source": [
    "script = '''\n",
    "create table if not exists incomeStatementHistory_annually (\n",
    "    stock TEXT,\n",
    "    endDate TEXT,\n",
    "    netIncomeApplicableToCommonShares REAL,\n",
    "    netIncomeFromContinuingOps REAL,\n",
    "    totalOtherIncomeExpenseNet REAL,\n",
    "    costOfRevenue REAL,\n",
    "    totalOperatingExpenses REAL,\n",
    "    totalRevenue REAL,\n",
    "    incomeTaxExpense REAL,\n",
    "    interestExpense REAL,\n",
    "    operatingIncome REAL,\n",
    "    ebit REAL,\n",
    "    grossProfit REAL,\n",
    "    sellingGeneralAdministrative REAL,\n",
    "    netIncome REAL,\n",
    "    incomeBeforeTax REAL,\n",
    "    researchDevelopment REAL,\n",
    "    otherOperatingExpenses REAL,\n",
    "    minorityInterest REAL,\n",
    "    discontinuedOperations REAL,\n",
    "    primary key (stock, endDate)\n",
    ")\n",
    "'''\n",
    "cursor.execute(\"drop table if exists incomeStatementHistory_annually\")\n",
    "cursor.execute(script)\n"
   ]
  },
  {
   "cell_type": "code",
   "execution_count": 11,
   "metadata": {},
   "outputs": [
    {
     "data": {
      "text/plain": [
       "<sqlite3.Cursor at 0x2247d9ac7c0>"
      ]
     },
     "execution_count": 11,
     "metadata": {},
     "output_type": "execute_result"
    }
   ],
   "source": [
    "script = '''\n",
    "create table if not exists incomeStatementHistory_quarterly (\n",
    " stock TEXT,\n",
    "    endDate TEXT,\n",
    "    netIncomeApplicableToCommonShares REAL,\n",
    "    netIncomeFromContinuingOps REAL,\n",
    "    totalOtherIncomeExpenseNet REAL,\n",
    "    costOfRevenue REAL,\n",
    "    totalOperatingExpenses REAL,\n",
    "    totalRevenue REAL,\n",
    "    incomeTaxExpense REAL,\n",
    "    interestExpense REAL,\n",
    "    operatingIncome REAL,\n",
    "    ebit REAL,\n",
    "    grossProfit REAL,\n",
    "    sellingGeneralAdministrative REAL,\n",
    "    netIncome REAL,\n",
    "    incomeBeforeTax REAL,\n",
    "    researchDevelopment REAL,\n",
    "    otherOperatingExpenses REAL,\n",
    "    minorityInterest REAL,\n",
    "    discontinuedOperations REAL,\n",
    "    primary key (stock, endDate)\n",
    ")\n",
    "'''\n",
    "cursor.execute(\"drop table if exists incomeStatementHistory_quarterly\")\n",
    "cursor.execute(script)"
   ]
  },
  {
   "cell_type": "markdown",
   "metadata": {},
   "source": [
    "### Define function to insert value into the created tables\n",
    "Name stands for both table name and df name, since we named both of them the same. "
   ]
  },
  {
   "cell_type": "code",
   "execution_count": 12,
   "metadata": {},
   "outputs": [],
   "source": [
    "def fun(name):\n",
    "\n",
    "    df = files[name]\n",
    "\n",
    "    insert = \"replace into \" + name + \\\n",
    "                \" values (\"+\"?,\"*(df.shape[1] - 1)+\"?\"+\")\"\n",
    "    \n",
    "    for row in df.itertuples(index=False):\n",
    "        cursor.execute(insert, row)"
   ]
  },
  {
   "cell_type": "code",
   "execution_count": 13,
   "metadata": {},
   "outputs": [],
   "source": [
    "fun(\"balanceSheetHistory_quarterly\")\n",
    "fun(\"cashflowStatement_annually\")\n",
    "fun(\"cashflowStatement_quarterly\")\n",
    "fun(\"incomeStatementHistory_annually\")\n",
    "fun(\"incomeStatementHistory_quarterly\")"
   ]
  },
  {
   "cell_type": "code",
   "execution_count": 14,
   "metadata": {},
   "outputs": [],
   "source": [
    "connection.commit()\n",
    "connection.close()"
   ]
  }
 ],
 "metadata": {
  "kernelspec": {
   "display_name": ".venv",
   "language": "python",
   "name": "python3"
  },
  "language_info": {
   "codemirror_mode": {
    "name": "ipython",
    "version": 3
   },
   "file_extension": ".py",
   "mimetype": "text/x-python",
   "name": "python",
   "nbconvert_exporter": "python",
   "pygments_lexer": "ipython3",
   "version": "3.11.4"
  },
  "orig_nbformat": 4
 },
 "nbformat": 4,
 "nbformat_minor": 2
}
